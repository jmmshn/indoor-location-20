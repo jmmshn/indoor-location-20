{
 "cells": [
  {
   "cell_type": "code",
   "execution_count": 1,
   "id": "a5dd39fa-2146-487d-8166-48ff3b1120d5",
   "metadata": {},
   "outputs": [],
   "source": [
    "%load_ext autoreload\n",
    "%autoreload 2\n",
    "%matplotlib inline\n",
    "from IPython.display import JSON\n",
    "from json import JSONEncoder, loads\n",
    "class MyEncoder(JSONEncoder):\n",
    "        def default(self, o):\n",
    "            try:\n",
    "                return o.as_dict()\n",
    "            except:\n",
    "                try:\n",
    "                    return o.__dict__\n",
    "                except:\n",
    "                    return str(o)\n",
    "show_json = lambda x : display(JSON(loads(MyEncoder().encode(x))))\n",
    "from building import *\n",
    "from io_f import *\n",
    "from matplotlib import pyplot as plt"
   ]
  },
  {
   "cell_type": "code",
   "execution_count": 44,
   "id": "e106ce16-5d25-413f-bb16-d05b7354515d",
   "metadata": {},
   "outputs": [
    {
     "name": "stdout",
     "output_type": "stream",
     "text": [
      "torch.Size([40, 200])\n"
     ]
    }
   ],
   "source": [
    "import torch\n",
    "import torch.nn.functional as F\n",
    "\n",
    "def magic_combine(x, dim_begin, dim_end):\n",
    "    combined_shape = list(x.shape[:dim_begin]) + [-1] + list(x.shape[dim_end:])\n",
    "    print(combined_shape)\n",
    "    return x.view(combined_shape)\n",
    "\n",
    "a = torch.zeros(40,100,2)\n",
    "b = a.view(40, -1)\n",
    "print(b.size())"
   ]
  },
  {
   "cell_type": "code",
   "execution_count": null,
   "id": "47a7df3d-4e84-4cd3-b2b5-50f1eb861d58",
   "metadata": {},
   "outputs": [],
   "source": []
  },
  {
   "cell_type": "code",
   "execution_count": 25,
   "id": "e003ab79-5c8e-4f44-be3b-36f61de8c76e",
   "metadata": {},
   "outputs": [
    {
     "data": {
      "text/plain": [
       "(46, 1426)"
      ]
     },
     "execution_count": 25,
     "metadata": {},
     "output_type": "execute_result"
    }
   ],
   "source": [
    "data = read_data_file(\"/home/lik/Documents/indoor-location-data/test/00ff0c9a71cc37a2ebdd0f05.txt\", test_mode=True)\n",
    "test_data = data.get_test_data(\"5da1389e4db8ce0c98bd0547\", sensor_names=['magn', 'acce', 'gyro'])\n",
    "test_data.shape\n"
   ]
  },
  {
   "cell_type": "code",
   "execution_count": 30,
   "id": "2c0351a3-1ee2-4799-9d20-08f103802a95",
   "metadata": {},
   "outputs": [
    {
     "data": {
      "text/plain": [
       "(8, 1426)"
      ]
     },
     "execution_count": 30,
     "metadata": {},
     "output_type": "execute_result"
    }
   ],
   "source": [
    "data = read_data_file(\"/home/lik/Documents/indoor-location-data/train/5da1389e4db8ce0c98bd0547/F1/5dd77ff39191710006b565fb.txt\", test_mode=False)\n",
    "train_in, train_out = data.get_training_data(building_id=\"5da1389e4db8ce0c98bd0547\", use_avg=True, sensor_names=['magn', 'acce', 'gyro'])\n",
    "train_in.shape\n"
   ]
  },
  {
   "cell_type": "code",
   "execution_count": null,
   "id": "0c258362-5fd7-4c0a-ac30-23ee6a64e198",
   "metadata": {},
   "outputs": [],
   "source": []
  },
  {
   "cell_type": "code",
   "execution_count": 17,
   "id": "788af6a0-37d5-4910-9c5e-3751f9476310",
   "metadata": {},
   "outputs": [],
   "source": [
    "positions = data.get_positions_at_measured_times(mt)\n",
    "positions_avg = data.get_positions_at_measured_times(mt_avg)"
   ]
  },
  {
   "cell_type": "code",
   "execution_count": 24,
   "id": "4dab5833-bc71-4117-81e9-334ec04c59fe",
   "metadata": {},
   "outputs": [
    {
     "data": {
      "text/plain": [
       "(40, 10)"
      ]
     },
     "execution_count": 24,
     "metadata": {},
     "output_type": "execute_result"
    }
   ],
   "source": [
    "rr = data.get_interpolated_sensor_data(mt.keys(), sensor_names=['magn', 'acce', 'gyro'])\n",
    "rr.shape"
   ]
  },
  {
   "cell_type": "code",
   "execution_count": 25,
   "id": "0e9b4e79-0fad-471e-8266-555614b2ef2c",
   "metadata": {},
   "outputs": [
    {
     "data": {
      "text/plain": [
       "(40, 1472)"
      ]
     },
     "execution_count": 25,
     "metadata": {},
     "output_type": "execute_result"
    }
   ],
   "source": [
    "wifi_data.shape"
   ]
  },
  {
   "cell_type": "code",
   "execution_count": 26,
   "id": "edfbb438-59ad-40c7-9f05-626876e3c352",
   "metadata": {},
   "outputs": [
    {
     "data": {
      "text/plain": [
       "(40, 1482)"
      ]
     },
     "execution_count": 26,
     "metadata": {},
     "output_type": "execute_result"
    }
   ],
   "source": [
    "vec_data = np.concatenate([wifi_data, rr], axis=1)\n",
    "vec_data.shape"
   ]
  },
  {
   "cell_type": "code",
   "execution_count": 27,
   "id": "1aca4c29-7f13-4294-8ffb-0bfd95e787fd",
   "metadata": {},
   "outputs": [
    {
     "data": {
      "text/plain": [
       "(40, 3)"
      ]
     },
     "execution_count": 27,
     "metadata": {},
     "output_type": "execute_result"
    }
   ],
   "source": [
    "positions.shape"
   ]
  },
  {
   "cell_type": "code",
   "execution_count": null,
   "id": "12a94f05-2435-4b8e-a8b4-78a01841f7ca",
   "metadata": {},
   "outputs": [],
   "source": [
    "positions[:,]"
   ]
  },
  {
   "cell_type": "code",
   "execution_count": 9,
   "id": "eca0ee4f-e684-4089-a0a9-1910a0b8399a",
   "metadata": {},
   "outputs": [
    {
     "data": {
      "text/plain": [
       "[<matplotlib.lines.Line2D at 0x7f7b77c629d0>]"
      ]
     },
     "execution_count": 9,
     "metadata": {},
     "output_type": "execute_result"
    },
    {
     "data": {
      "image/png": "[encoded data removed]",
      "text/plain": [
       "<Figure size 432x288 with 1 Axes>"
      ]
     },
     "metadata": {
      "needs_background": "light"
     },
     "output_type": "display_data"
    }
   ],
   "source": [
    "plt.plot(positions[:,1], 'bo')\n",
    "plt.plot(positions_avg[:,1], 'ro')\n"
   ]
  },
  {
   "cell_type": "code",
   "execution_count": 11,
   "id": "21b0b3d4-50ed-40f9-8b27-e619c7d916b2",
   "metadata": {},
   "outputs": [
    {
     "data": {
      "image/png": "[encoded data removed]",
      "text/plain": [
       "<Figure size 432x288 with 1 Axes>"
      ]
     },
     "metadata": {
      "needs_background": "light"
     },
     "output_type": "display_data"
    }
   ],
   "source": [
    "aaa = wifi_data[0, :]\n",
    "for i in range(40):\n",
    "    bbb = wifi_data[i, :]\n",
    "    pp = np.dot(bbb, aaa) / np.sqrt(np.dot(bbb, bbb) * np.dot(aaa, aaa))\n",
    "    plt.plot(i, pp, 'bo')\n",
    "aaa = wifi_data_avg[0, :]\n",
    "for i in range(40):\n",
    "    bbb = wifi_data[i, :]\n",
    "    pp = np.dot(bbb, aaa) / np.sqrt(np.dot(bbb, bbb) * np.dot(aaa, aaa))\n",
    "    plt.plot(i, pp, 'ro')"
   ]
  },
  {
   "cell_type": "code",
   "execution_count": 6,
   "id": "4eeadde4-1ddd-46cc-b351-98dc1dd41aac",
   "metadata": {},
   "outputs": [
    {
     "data": {
      "image/png": "[encoded data removed]",
      "text/plain": [
       "<Figure size 432x288 with 1 Axes>"
      ]
     },
     "metadata": {
      "needs_background": "light"
     },
     "output_type": "display_data"
    }
   ],
   "source": [
    "aaa = wifi_data[0, :, 0]\n",
    "for i in range(40):\n",
    "    bbb = wifi_data[i, :, 0]\n",
    "    pp = np.dot(bbb, aaa) / np.sqrt(np.dot(bbb, bbb) * np.dot(aaa, aaa))\n",
    "    plt.plot(i, pp, 'bo')\n",
    "aaa = wifi_data_avg[0, :, 0]\n",
    "for i in range(40):\n",
    "    bbb = wifi_data[i, :, 0]\n",
    "    pp = np.dot(bbb, aaa) / np.sqrt(np.dot(bbb, bbb) * np.dot(aaa, aaa))\n",
    "    plt.plot(i, pp, 'ro')"
   ]
  },
  {
   "cell_type": "code",
   "execution_count": 98,
   "id": "74733dd3-d8c9-4925-bf1d-267cbca7226d",
   "metadata": {},
   "outputs": [
    {
     "name": "stdout",
     "output_type": "stream",
     "text": [
      "1.0\n",
      "0.9938500532127005\n",
      "0.978767993884705\n",
      "0.9587618655063453\n",
      "0.9532674829286986\n",
      "0.9237170258225313\n",
      "0.8941331295148014\n",
      "0.8799019855895781\n",
      "0.8799019855895781\n",
      "0.8349038963431852\n",
      "0.8328244313549668\n",
      "0.8226552535203866\n",
      "0.8314109932105399\n",
      "0.8416431559227396\n",
      "0.8264771721766018\n",
      "0.8246385110065656\n",
      "0.822812066879325\n",
      "0.7984528049424274\n",
      "0.7809746397355056\n",
      "0.7159533568949971\n",
      "0.7074868439827007\n",
      "0.7044040979720602\n",
      "0.6840684215976556\n",
      "0.66019277149843\n",
      "0.6064172948423149\n",
      "0.5747998636078122\n",
      "0.5810957782830982\n",
      "0.5716940984161544\n",
      "0.5667010412256424\n",
      "0.5378861108990537\n",
      "0.5402196841590235\n",
      "0.5314685429335632\n",
      "0.5326127176549453\n",
      "0.5172350789865017\n",
      "0.47770404550544315\n",
      "0.44727550642923636\n",
      "0.4448867987191959\n",
      "0.43335320547819484\n",
      "0.4303349533131265\n",
      "0.4355197117867786\n"
     ]
    }
   ],
   "source": [
    "aaa = ww[0, :, 0]\n",
    "for i in range(40):\n",
    "    bbb = ww[i, :, 0]\n",
    "    print(np.dot(bbb, aaa) / np.sqrt(np.dot(bbb, bbb) * np.dot(aaa, aaa)), )"
   ]
  },
  {
   "cell_type": "code",
   "execution_count": 94,
   "id": "a21a6091-c14e-41c8-9537-4c6bb835d635",
   "metadata": {},
   "outputs": [
    {
     "data": {
      "text/plain": [
       "(40, 736, 4)"
      ]
     },
     "execution_count": 94,
     "metadata": {},
     "output_type": "execute_result"
    }
   ],
   "source": [
    "ww.shape"
   ]
  },
  {
   "cell_type": "code",
   "execution_count": 111,
   "id": "c7b8fe8f-bed3-4821-a6c0-590e77dedae7",
   "metadata": {},
   "outputs": [],
   "source": [
    "# wifi data:\n",
    "\n",
    "\"\"\"\n",
    "report_time: \n",
    "[\n",
    "    [frequency, wait_time], <- specific index from ssid->index lookup table\n",
    "    [frequency, wait_time],\n",
    "    ...\n",
    "]\n",
    "\"\"\"\n",
    "pass"
   ]
  },
  {
   "cell_type": "code",
   "execution_count": 103,
   "id": "f545a610-d732-40b3-a246-f008543026bf",
   "metadata": {},
   "outputs": [
    {
     "data": {
      "text/plain": [
       "42"
      ]
     },
     "execution_count": 103,
     "metadata": {},
     "output_type": "execute_result"
    }
   ],
   "source": [
    "ss = {dd[0] for dd in data.wifi}\n",
    "len(ss)\n"
   ]
  },
  {
   "cell_type": "code",
   "execution_count": 104,
   "id": "92d0e019-b122-4aca-a27a-9f3d09c7fc88",
   "metadata": {},
   "outputs": [
    {
     "ename": "SyntaxError",
     "evalue": "invalid syntax (<ipython-input-104-12da305591f5>, line 3)",
     "output_type": "error",
     "traceback": [
      "\u001b[0;36m  File \u001b[0;32m\"<ipython-input-104-12da305591f5>\"\u001b[0;36m, line \u001b[0;32m3\u001b[0m\n\u001b[0;31m    wifi_fingerprint = defaultdict(lambda [])\u001b[0m\n\u001b[0m                                          ^\u001b[0m\n\u001b[0;31mSyntaxError\u001b[0m\u001b[0;31m:\u001b[0m invalid syntax\n"
     ]
    }
   ],
   "source": [
    "from collections import defaultdict\n",
    "# dictionary of time\n",
    "wifi_fingerprint = defaultdict(lambda [])"
   ]
  },
  {
   "cell_type": "code",
   "execution_count": 112,
   "id": "6a5ccf24-b895-408e-bcf3-4de26bf2f983",
   "metadata": {},
   "outputs": [
    {
     "data": {
      "text/plain": [
       "[<matplotlib.lines.Line2D at 0x7f9a96c57160>]"
      ]
     },
     "execution_count": 112,
     "metadata": {},
     "output_type": "execute_result"
    },
    {
     "data": {
      "image/png": "[encoded data removed]",
      "text/plain": [
       "<Figure size 432x288 with 1 Axes>"
      ]
     },
     "metadata": {
      "needs_background": "light"
     },
     "output_type": "display_data"
    }
   ],
   "source": [
    "arr = np.array(data.magn)\n",
    "plt.plot(arr[:, 0], arr[:, 1])\n",
    "wifi_d = np.interp(t, arr[:, 0], arr[:, 1])\n",
    "plt.plot(t[::20], wifi_d[::20], 'o')\n"
   ]
  },
  {
   "cell_type": "code",
   "execution_count": null,
   "id": "c6aeaeed-7853-421e-b0de-70279ac6ddde",
   "metadata": {},
   "outputs": [],
   "source": []
  },
  {
   "cell_type": "code",
   "execution_count": null,
   "id": "834562fa-3525-491b-a79e-02541c4ee94c",
   "metadata": {},
   "outputs": [],
   "source": []
  },
  {
   "cell_type": "code",
   "execution_count": null,
   "id": "8bfc6b86-8fd4-4bb5-81b8-b55ba712771e",
   "metadata": {},
   "outputs": [],
   "source": []
  },
  {
   "cell_type": "code",
   "execution_count": 16,
   "id": "06b7bdf3-76d8-4324-ad43-3d5c0aa8dc08",
   "metadata": {},
   "outputs": [],
   "source": [
    "t = np.array([t0 for t0,_,_,_,_ in data.wifi])"
   ]
  },
  {
   "cell_type": "code",
   "execution_count": 17,
   "id": "10c69b9a-b2ca-4f88-86a8-b15650788b4d",
   "metadata": {},
   "outputs": [
    {
     "data": {
      "text/plain": [
       "[<matplotlib.lines.Line2D at 0x7f9a9ffa4c70>]"
      ]
     },
     "execution_count": 17,
     "metadata": {},
     "output_type": "execute_result"
    },
    {
     "data": {
      "image/png": "[encoded data removed]",
      "text/plain": [
       "<Figure size 432x288 with 1 Axes>"
      ]
     },
     "metadata": {
      "needs_background": "light"
     },
     "output_type": "display_data"
    }
   ],
   "source": [
    "tt, x, y = get_pos_by_time(t, data.waypoint)\n",
    "plt.plot(x,y, 'o')"
   ]
  },
  {
   "cell_type": "code",
   "execution_count": 21,
   "id": "d83a7329-b8ce-4ea8-b9b1-32cef3c08b6b",
   "metadata": {},
   "outputs": [
    {
     "data": {
      "text/plain": [
       "(array([ 363.,  468.,  630.,  574.,  566.,  754.,  939., 1309., 2625.,\n",
       "        7941.]),\n",
       " array([-30170. , -27183.7, -24197.4, -21211.1, -18224.8, -15238.5,\n",
       "        -12252.2,  -9265.9,  -6279.6,  -3293.3,   -307. ]),\n",
       " <BarContainer object of 10 artists>)"
      ]
     },
     "execution_count": 21,
     "metadata": {},
     "output_type": "execute_result"
    },
    {
     "data": {
      "image/png": "[encoded data removed]",
      "text/plain": [
       "<Figure size 432x288 with 1 Axes>"
      ]
     },
     "metadata": {
      "needs_background": "light"
     },
     "output_type": "display_data"
    }
   ],
   "source": [
    "diffs = []\n",
    "for t1, _, _, _, t2 in data.wifi:\n",
    "    diffs.append(t2 - t1)\n",
    "plt.hist(diffs)"
   ]
  },
  {
   "cell_type": "code",
   "execution_count": 320,
   "id": "83c332f4-5938-4331-8d63-15de9ec512d6",
   "metadata": {},
   "outputs": [
    {
     "name": "stderr",
     "output_type": "stream",
     "text": [
      "<ipython-input-318-3806b0d9d3ca>:15: RuntimeWarning: divide by zero encountered in true_divide\n",
      "  f1, f2 = 1/f1**2, 1/f2**2\n",
      "<ipython-input-318-3806b0d9d3ca>:16: RuntimeWarning: invalid value encountered in true_divide\n",
      "  f1, f2 = f1/(f1 + f2), f2/(f1 + f2)\n"
     ]
    }
   ],
   "source": [
    "t = np.linspace(1578462611392, 1578462638947, 30)\n",
    "tt, x, y = get_pos_by_time(t, data.waypoint)"
   ]
  },
  {
   "cell_type": "code",
   "execution_count": 312,
   "id": "5cf75f0a-bfe2-4a3a-9e5f-463448e401c7",
   "metadata": {},
   "outputs": [
    {
     "data": {
      "text/plain": [
       "22"
      ]
     },
     "execution_count": 312,
     "metadata": {},
     "output_type": "execute_result"
    }
   ],
   "source": [
    "len(tt)"
   ]
  },
  {
   "cell_type": "code",
   "execution_count": null,
   "id": "602552cd-e9b9-44ae-aede-e0232bd26569",
   "metadata": {},
   "outputs": [],
   "source": []
  },
  {
   "cell_type": "code",
   "execution_count": 313,
   "id": "7e69a50e-3e84-4528-b8c4-9674d268cf4a",
   "metadata": {},
   "outputs": [
    {
     "data": {
      "text/plain": [
       "1578462618993.3794"
      ]
     },
     "execution_count": 313,
     "metadata": {},
     "output_type": "execute_result"
    }
   ],
   "source": [
    "tt[0]"
   ]
  },
  {
   "cell_type": "code",
   "execution_count": 314,
   "id": "c3b5acd9-9618-4936-9578-97b04eacaf7d",
   "metadata": {},
   "outputs": [
    {
     "data": {
      "text/plain": [
       "[<matplotlib.lines.Line2D at 0x7f3de91a8e20>]"
      ]
     },
     "execution_count": 314,
     "metadata": {},
     "output_type": "execute_result"
    },
    {
     "data": {
      "image/png": "[encoded data removed]",
      "text/plain": [
       "<Figure size 432x288 with 1 Axes>"
      ]
     },
     "metadata": {
      "needs_background": "light"
     },
     "output_type": "display_data"
    }
   ],
   "source": [
    "plt.plot(x,y, 'o')"
   ]
  },
  {
   "cell_type": "code",
   "execution_count": 9,
   "id": "fcae4dd3-6527-4d4e-8c74-b9b092758daa",
   "metadata": {},
   "outputs": [
    {
     "data": {
      "text/plain": [
       "[]"
      ]
     },
     "execution_count": 9,
     "metadata": {},
     "output_type": "execute_result"
    }
   ],
   "source": [
    "data = read_data_file(\"/home/lik/Documents/indoor-location-data/test/00ff0c9a71cc37a2ebdd0f05.txt\")\n",
    "data.waypoint"
   ]
  },
  {
   "cell_type": "markdown",
   "id": "cb700fb8-addb-4a9e-8ddc-3b1198979477",
   "metadata": {},
   "source": [
    "# Train a network to read a file and figure out which building you are in"
   ]
  },
  {
   "cell_type": "code",
   "execution_count": null,
   "id": "a070a07b-fc66-4300-b7f6-cd4303707a90",
   "metadata": {},
   "outputs": [],
   "source": [
    "len()B"
   ]
  },
  {
   "cell_type": "code",
   "execution_count": 11,
   "id": "85c101e1-d792-4713-bc20-b68dfcd8ff25",
   "metadata": {},
   "outputs": [
    {
     "name": "stdout",
     "output_type": "stream",
     "text": [
      "2\n",
      "5\n",
      "1\n",
      "3\n",
      "6\n",
      "4\n",
      "3\n",
      "4\n",
      "3\n",
      "2\n",
      "3\n",
      "4\n",
      "1\n",
      "3\n",
      "4\n",
      "3\n",
      "5\n",
      "4\n",
      "2\n",
      "5\n",
      "3\n",
      "6\n",
      "1\n",
      "3\n",
      "3\n",
      "7\n",
      "1\n",
      "3\n",
      "2\n",
      "4\n",
      "3\n",
      "3\n",
      "2\n",
      "6\n",
      "4\n",
      "1\n",
      "5\n",
      "2\n",
      "2\n",
      "1\n",
      "6\n",
      "3\n",
      "2\n",
      "3\n",
      "5\n",
      "2\n",
      "2\n",
      "58\n",
      "3\n",
      "3\n",
      "3\n",
      "4\n",
      "3\n",
      "3\n",
      "7\n",
      "2\n",
      "2\n",
      "4\n",
      "5\n",
      "3\n",
      "1\n",
      "4\n",
      "4\n",
      "5\n",
      "2\n",
      "1\n",
      "5\n",
      "3\n",
      "4\n",
      "3\n",
      "4\n",
      "2\n",
      "4\n",
      "1\n",
      "2\n",
      "4\n",
      "1\n",
      "2\n",
      "4\n",
      "2\n",
      "1\n",
      "2\n",
      "2\n",
      "3\n",
      "1\n",
      "3\n",
      "5\n",
      "1\n",
      "2\n",
      "5\n",
      "2\n",
      "3\n",
      "3\n",
      "4\n",
      "3\n",
      "2\n",
      "4\n",
      "2\n",
      "4\n",
      "2\n",
      "6\n",
      "1\n",
      "4\n",
      "1\n",
      "2\n",
      "1\n",
      "4\n",
      "2\n",
      "3\n",
      "3\n",
      "1\n",
      "2\n",
      "3\n",
      "4\n",
      "4\n",
      "1\n",
      "5\n",
      "3\n",
      "6\n",
      "6\n",
      "6\n",
      "4\n",
      "2\n",
      "1\n",
      "5\n",
      "8\n",
      "3\n",
      "2\n",
      "5\n",
      "3\n",
      "2\n",
      "2\n",
      "3\n",
      "2\n",
      "4\n",
      "4\n",
      "1\n",
      "4\n",
      "4\n",
      "4\n",
      "4\n",
      "3\n",
      "5\n",
      "2\n",
      "4\n",
      "5\n",
      "7\n",
      "1\n",
      "1\n",
      "6\n",
      "1\n",
      "3\n",
      "6\n",
      "4\n",
      "5\n",
      "2\n",
      "4\n",
      "1\n",
      "2\n",
      "6\n",
      "4\n",
      "3\n",
      "1\n",
      "4\n",
      "4\n",
      "10\n",
      "1\n",
      "1\n",
      "2\n",
      "4\n",
      "2\n",
      "3\n",
      "3\n",
      "3\n",
      "2\n",
      "2\n",
      "3\n",
      "3\n",
      "1\n",
      "3\n",
      "5\n",
      "1\n",
      "3\n",
      "7\n",
      "4\n",
      "4\n",
      "4\n",
      "2\n",
      "4\n",
      "3\n",
      "2\n",
      "0\n",
      "2\n",
      "6\n",
      "3\n",
      "1\n"
     ]
    }
   ],
   "source": [
    "from torch import nn\n",
    "def get_common_wifi_vec():\n",
    "    \"\"\"\n",
    "    read a \n",
    "    \"\"\"\n",
    "for ib, db in BUILDING_INFO.items():\n",
    "    common_ssids = set(db['wifi_ssids']) & ssids_test\n",
    "    "
   ]
  },
  {
   "cell_type": "code",
   "execution_count": null,
   "id": "1dbbf35b-1380-4d61-9c06-1a7327670b7f",
   "metadata": {},
   "outputs": [],
   "source": []
  },
  {
   "cell_type": "code",
   "execution_count": null,
   "id": "059338f6-83e2-4d46-8399-91e7980a773d",
   "metadata": {},
   "outputs": [],
   "source": []
  },
  {
   "cell_type": "code",
   "execution_count": null,
   "id": "cc40d042-a70c-470d-af35-403bf81f098d",
   "metadata": {},
   "outputs": [],
   "source": []
  },
  {
   "cell_type": "code",
   "execution_count": null,
   "id": "14c20d95-e52c-4a80-9c96-70a09be6a792",
   "metadata": {},
   "outputs": [],
   "source": []
  },
  {
   "cell_type": "code",
   "execution_count": null,
   "id": "5032ca34-49d1-46a2-99ad-147a942be4bf",
   "metadata": {},
   "outputs": [],
   "source": []
  },
  {
   "cell_type": "code",
   "execution_count": null,
   "id": "a1eb8e67-f291-47f0-a37a-d34c52085d6b",
   "metadata": {},
   "outputs": [],
   "source": []
  },
  {
   "cell_type": "code",
   "execution_count": 4,
   "id": "4244162a-8167-49f3-ab96-44d80d6cd956",
   "metadata": {},
   "outputs": [],
   "source": [
    "from glob import glob "
   ]
  },
  {
   "cell_type": "code",
   "execution_count": null,
   "id": "2e07511e-5dfc-4201-a1f2-a827464b3fef",
   "metadata": {},
   "outputs": [],
   "source": []
  },
  {
   "cell_type": "code",
   "execution_count": 5,
   "id": "3240cbcb-2dbf-4645-b6d4-9be163b76db1",
   "metadata": {},
   "outputs": [],
   "source": [
    "s_floors = set()\n",
    "building = dict() # key building number keys\n",
    "\n",
    "for ibuild, ifold in enumerate(glob(KAGGLE_TRAIN_DIR+\"/*\")):\n",
    "    d = dict(folder=ifold, floor_dirs=dict())\n",
    "    for fl_dir in glob(d['folder']+\"/*\"):\n",
    "        fl = fl_dir.split('/')[-1]\n",
    "        if fl not in FLOOR_MAP.keys():\n",
    "            break\n",
    "        s_floors.add(fl)\n",
    "        d[\"floor_dirs\"][FLOOR_MAP[fl]] = fl_dir\n",
    "    else:\n",
    "        building[ibuild] = d\n"
   ]
  },
  {
   "cell_type": "markdown",
   "id": "8327fbf4-850b-4e09-b869-cb4b19057b54",
   "metadata": {},
   "source": [
    "### Uncomment the code below to calculate the set of ssids that show up at more than one location"
   ]
  },
  {
   "cell_type": "code",
   "execution_count": 8,
   "id": "0ebab90b-f84c-46a8-a7c9-5dea46908fe3",
   "metadata": {},
   "outputs": [],
   "source": [
    "import re\n",
    "from collections import defaultdict\n",
    "from tqdm import tqdm\n",
    "import numpy as np\n",
    "\n",
    "def get_wifi_ids(folder):\n",
    "    # read all the txt files in a folder return all the the unique wifi ssids\n",
    "    ssids = set()\n",
    "    for file in glob(folder + \"/*\"):\n",
    "        with open(file, 'r') as f:\n",
    "            txt = f.read()\n",
    "        matches = re.findall(\"TYPE_WIFI.*\\n\", txt)\n",
    "        for imatch in matches:\n",
    "            _, ssid, bssid, rssi, frequency, last_seen_time = imatch.split(\"\\t\")#         if match:\n",
    "            ssids.add(ssid)\n",
    "    return ssids\n",
    "\n",
    "# seent_ssids = set()\n",
    "# repeat_ids = set()\n",
    "# for ib, db in tqdm(building.items()):\n",
    "#     new_ids = set()\n",
    "#     for ifloor, dfloor in db['floor_dirs'].items():\n",
    "#         new_ids |= get_wifi_ids(dfloor)\n",
    "#     repeat_ids |= new_ids & seent_ssids\n",
    "#     seent_ssids |= new_ids\n",
    "# arr = np.array(list(repeat_ids))\n",
    "# np.savetxt('repeat_ssids.txt', arr, fmt='%s')\n"
   ]
  },
  {
   "cell_type": "code",
   "execution_count": 12,
   "id": "13dff181-d0b3-45f6-9362-f4d690a74659",
   "metadata": {},
   "outputs": [
    {
     "name": "stderr",
     "output_type": "stream",
     "text": [
      "  1%|          | 1/196 [00:00<00:24,  8.03it/s]"
     ]
    },
    {
     "name": "stdout",
     "output_type": "stream",
     "text": [
      "0.8394495412844036\n"
     ]
    },
    {
     "name": "stderr",
     "output_type": "stream",
     "text": [
      "  1%|          | 2/196 [00:07<14:46,  4.57s/it]"
     ]
    },
    {
     "name": "stdout",
     "output_type": "stream",
     "text": [
      "0.694672131147541\n"
     ]
    },
    {
     "name": "stderr",
     "output_type": "stream",
     "text": [
      "  2%|▏         | 3/196 [00:08<08:54,  2.77s/it]"
     ]
    },
    {
     "name": "stdout",
     "output_type": "stream",
     "text": [
      "0.7282608695652174\n",
      "0.8333333333333334\n"
     ]
    },
    {
     "name": "stderr",
     "output_type": "stream",
     "text": [
      "  3%|▎         | 5/196 [00:11<06:26,  2.02s/it]"
     ]
    },
    {
     "name": "stdout",
     "output_type": "stream",
     "text": [
      "0.801063829787234\n"
     ]
    },
    {
     "name": "stderr",
     "output_type": "stream",
     "text": [
      "  4%|▎         | 7/196 [00:11<03:31,  1.12s/it]"
     ]
    },
    {
     "name": "stdout",
     "output_type": "stream",
     "text": [
      "0.8466898954703833\n",
      "0.7651006711409396\n"
     ]
    },
    {
     "name": "stderr",
     "output_type": "stream",
     "text": [
      "  4%|▍         | 8/196 [00:15<05:47,  1.85s/it]"
     ]
    },
    {
     "name": "stdout",
     "output_type": "stream",
     "text": [
      "0.7434292866082604\n"
     ]
    },
    {
     "name": "stderr",
     "output_type": "stream",
     "text": [
      "  5%|▌         | 10/196 [00:15<03:06,  1.00s/it]"
     ]
    },
    {
     "name": "stdout",
     "output_type": "stream",
     "text": [
      "0.6235294117647059\n",
      "0.7115384615384616\n"
     ]
    },
    {
     "name": "stderr",
     "output_type": "stream",
     "text": [
      "  6%|▌         | 12/196 [00:19<04:00,  1.31s/it]"
     ]
    },
    {
     "name": "stdout",
     "output_type": "stream",
     "text": [
      "0.6897081413210445\n",
      "0.21983914209115282\n"
     ]
    },
    {
     "name": "stderr",
     "output_type": "stream",
     "text": [
      "  7%|▋         | 13/196 [00:19<02:54,  1.05it/s]"
     ]
    },
    {
     "name": "stdout",
     "output_type": "stream",
     "text": [
      "0.6460176991150443\n"
     ]
    },
    {
     "name": "stderr",
     "output_type": "stream",
     "text": [
      "  7%|▋         | 14/196 [00:20<02:28,  1.23it/s]"
     ]
    },
    {
     "name": "stdout",
     "output_type": "stream",
     "text": [
      "0.7183544303797469\n"
     ]
    },
    {
     "name": "stderr",
     "output_type": "stream",
     "text": [
      "  8%|▊         | 15/196 [00:21<02:44,  1.10it/s]"
     ]
    },
    {
     "name": "stdout",
     "output_type": "stream",
     "text": [
      "0.8086070215175538\n"
     ]
    },
    {
     "name": "stderr",
     "output_type": "stream",
     "text": [
      "  8%|▊         | 16/196 [00:22<02:55,  1.02it/s]"
     ]
    },
    {
     "name": "stdout",
     "output_type": "stream",
     "text": [
      "0.6180555555555556\n"
     ]
    },
    {
     "name": "stderr",
     "output_type": "stream",
     "text": [
      "  9%|▉         | 18/196 [00:26<03:43,  1.25s/it]"
     ]
    },
    {
     "name": "stdout",
     "output_type": "stream",
     "text": [
      "0.8331854480922803\n",
      "0.8344709897610921\n",
      "0.6126126126126126\n"
     ]
    },
    {
     "name": "stderr",
     "output_type": "stream",
     "text": [
      " 11%|█         | 21/196 [00:26<01:41,  1.73it/s]"
     ]
    },
    {
     "name": "stdout",
     "output_type": "stream",
     "text": [
      "0.8453333333333334\n",
      "0.6212121212121212\n"
     ]
    },
    {
     "name": "stderr",
     "output_type": "stream",
     "text": [
      " 12%|█▏        | 23/196 [00:26<01:09,  2.50it/s]"
     ]
    },
    {
     "name": "stdout",
     "output_type": "stream",
     "text": [
      "0.7587939698492462\n",
      "0.6771653543307087\n",
      "0.6698113207547169\n"
     ]
    },
    {
     "name": "stderr",
     "output_type": "stream",
     "text": [
      " 13%|█▎        | 25/196 [00:27<00:51,  3.29it/s]"
     ]
    },
    {
     "name": "stdout",
     "output_type": "stream",
     "text": [
      "0.6645569620253164\n"
     ]
    },
    {
     "name": "stderr",
     "output_type": "stream",
     "text": [
      " 14%|█▍        | 27/196 [00:28<01:15,  2.23it/s]"
     ]
    },
    {
     "name": "stdout",
     "output_type": "stream",
     "text": [
      "0.6622983870967742\n",
      "0.7692307692307693\n"
     ]
    },
    {
     "name": "stderr",
     "output_type": "stream",
     "text": [
      " 14%|█▍        | 28/196 [00:28<01:04,  2.62it/s]"
     ]
    },
    {
     "name": "stdout",
     "output_type": "stream",
     "text": [
      "0.8155136268343816\n"
     ]
    },
    {
     "name": "stderr",
     "output_type": "stream",
     "text": [
      " 15%|█▍        | 29/196 [00:29<01:21,  2.04it/s]"
     ]
    },
    {
     "name": "stdout",
     "output_type": "stream",
     "text": [
      "0.7131147540983607\n"
     ]
    },
    {
     "name": "stderr",
     "output_type": "stream",
     "text": [
      " 16%|█▌        | 31/196 [00:30<00:57,  2.89it/s]"
     ]
    },
    {
     "name": "stdout",
     "output_type": "stream",
     "text": [
      "0.6859903381642513\n",
      "0.608433734939759\n"
     ]
    },
    {
     "name": "stderr",
     "output_type": "stream",
     "text": [
      " 16%|█▋        | 32/196 [00:30<01:13,  2.24it/s]"
     ]
    },
    {
     "name": "stdout",
     "output_type": "stream",
     "text": [
      "0.7001414427157001\n",
      "0.7169811320754716\n"
     ]
    },
    {
     "name": "stderr",
     "output_type": "stream",
     "text": [
      " 17%|█▋        | 34/196 [00:33<02:15,  1.20it/s]"
     ]
    },
    {
     "name": "stdout",
     "output_type": "stream",
     "text": [
      "0.74357034795764\n"
     ]
    },
    {
     "name": "stderr",
     "output_type": "stream",
     "text": [
      " 18%|█▊        | 35/196 [00:33<01:52,  1.44it/s]"
     ]
    },
    {
     "name": "stdout",
     "output_type": "stream",
     "text": [
      "0.7719714964370546\n"
     ]
    },
    {
     "name": "stderr",
     "output_type": "stream",
     "text": [
      " 18%|█▊        | 36/196 [00:33<01:32,  1.73it/s]"
     ]
    },
    {
     "name": "stdout",
     "output_type": "stream",
     "text": [
      "0.7368421052631579\n"
     ]
    },
    {
     "name": "stderr",
     "output_type": "stream",
     "text": [
      " 19%|█▉        | 37/196 [00:34<01:22,  1.92it/s]"
     ]
    },
    {
     "name": "stdout",
     "output_type": "stream",
     "text": [
      "0.7588996763754046\n"
     ]
    },
    {
     "name": "stderr",
     "output_type": "stream",
     "text": [
      " 20%|█▉        | 39/196 [00:34<00:56,  2.79it/s]"
     ]
    },
    {
     "name": "stdout",
     "output_type": "stream",
     "text": [
      "0.7384105960264901\n",
      "0.8632218844984803\n",
      "0.8502994011976048\n"
     ]
    },
    {
     "name": "stderr",
     "output_type": "stream",
     "text": [
      " 21%|██▏       | 42/196 [00:35<00:36,  4.18it/s]"
     ]
    },
    {
     "name": "stdout",
     "output_type": "stream",
     "text": [
      "0.5915492957746479\n",
      "0.8271186440677966\n"
     ]
    },
    {
     "name": "stderr",
     "output_type": "stream",
     "text": [
      " 22%|██▏       | 43/196 [00:35<00:32,  4.76it/s]"
     ]
    },
    {
     "name": "stdout",
     "output_type": "stream",
     "text": [
      "0.8235294117647058\n"
     ]
    },
    {
     "name": "stderr",
     "output_type": "stream",
     "text": [
      " 22%|██▏       | 44/196 [00:35<00:40,  3.75it/s]"
     ]
    },
    {
     "name": "stdout",
     "output_type": "stream",
     "text": [
      "0.7386363636363636\n"
     ]
    },
    {
     "name": "stderr",
     "output_type": "stream",
     "text": [
      " 24%|██▍       | 47/196 [00:43<03:09,  1.27s/it]"
     ]
    },
    {
     "name": "stdout",
     "output_type": "stream",
     "text": [
      "0.698780487804878\n",
      "0.6875\n",
      "0.75\n"
     ]
    },
    {
     "name": "stderr",
     "output_type": "stream",
     "text": [
      " 24%|██▍       | 48/196 [00:45<03:32,  1.44s/it]"
     ]
    },
    {
     "name": "stdout",
     "output_type": "stream",
     "text": [
      "0.7584745762711864\n"
     ]
    },
    {
     "name": "stderr",
     "output_type": "stream",
     "text": [
      " 25%|██▌       | 49/196 [00:45<02:54,  1.19s/it]"
     ]
    },
    {
     "name": "stdout",
     "output_type": "stream",
     "text": [
      "0.8252427184466019\n"
     ]
    },
    {
     "name": "stderr",
     "output_type": "stream",
     "text": [
      " 26%|██▌       | 50/196 [00:45<02:16,  1.07it/s]"
     ]
    },
    {
     "name": "stdout",
     "output_type": "stream",
     "text": [
      "0.7302158273381295\n",
      "0.8051948051948052\n"
     ]
    },
    {
     "name": "stderr",
     "output_type": "stream",
     "text": [
      " 27%|██▋       | 52/196 [00:47<02:23,  1.01it/s]"
     ]
    },
    {
     "name": "stdout",
     "output_type": "stream",
     "text": [
      "0.8800436205016358\n"
     ]
    },
    {
     "name": "stderr",
     "output_type": "stream",
     "text": [
      " 27%|██▋       | 53/196 [00:49<02:43,  1.14s/it]"
     ]
    },
    {
     "name": "stdout",
     "output_type": "stream",
     "text": [
      "0.7286166842661035\n",
      "0.9078947368421053\n"
     ]
    },
    {
     "name": "stderr",
     "output_type": "stream",
     "text": [
      " 28%|██▊       | 55/196 [00:49<01:43,  1.37it/s]"
     ]
    },
    {
     "name": "stdout",
     "output_type": "stream",
     "text": [
      "0.7444444444444445\n",
      "0.5980392156862745\n"
     ]
    },
    {
     "name": "stderr",
     "output_type": "stream",
     "text": [
      " 30%|██▉       | 58/196 [00:51<01:43,  1.34it/s]"
     ]
    },
    {
     "name": "stdout",
     "output_type": "stream",
     "text": [
      "0.73125\n",
      "0.6144859813084113\n"
     ]
    },
    {
     "name": "stderr",
     "output_type": "stream",
     "text": [
      " 30%|███       | 59/196 [00:52<01:43,  1.32it/s]"
     ]
    },
    {
     "name": "stdout",
     "output_type": "stream",
     "text": [
      "0.7532467532467533\n"
     ]
    },
    {
     "name": "stderr",
     "output_type": "stream",
     "text": [
      " 31%|███       | 60/196 [00:55<03:06,  1.37s/it]"
     ]
    },
    {
     "name": "stdout",
     "output_type": "stream",
     "text": [
      "0.7805755395683454\n",
      "0.8679245283018868\n"
     ]
    },
    {
     "name": "stderr",
     "output_type": "stream",
     "text": [
      " 32%|███▏      | 62/196 [00:56<02:11,  1.02it/s]"
     ]
    },
    {
     "name": "stdout",
     "output_type": "stream",
     "text": [
      "0.656084656084656\n"
     ]
    },
    {
     "name": "stderr",
     "output_type": "stream",
     "text": [
      " 32%|███▏      | 63/196 [00:57<01:55,  1.15it/s]"
     ]
    },
    {
     "name": "stdout",
     "output_type": "stream",
     "text": [
      "0.8356164383561644\n"
     ]
    },
    {
     "name": "stderr",
     "output_type": "stream",
     "text": [
      " 33%|███▎      | 64/196 [01:03<04:39,  2.12s/it]"
     ]
    },
    {
     "name": "stdout",
     "output_type": "stream",
     "text": [
      "0.7343649258542876\n"
     ]
    },
    {
     "name": "stderr",
     "output_type": "stream",
     "text": [
      " 33%|███▎      | 65/196 [01:06<05:12,  2.39s/it]"
     ]
    },
    {
     "name": "stdout",
     "output_type": "stream",
     "text": [
      "0.736046511627907\n",
      "0.75\n"
     ]
    },
    {
     "name": "stderr",
     "output_type": "stream",
     "text": [
      " 35%|███▍      | 68/196 [01:08<02:56,  1.38s/it]"
     ]
    },
    {
     "name": "stdout",
     "output_type": "stream",
     "text": [
      "0.6243144424131627\n",
      "0.7578947368421053\n"
     ]
    },
    {
     "name": "stderr",
     "output_type": "stream",
     "text": [
      " 35%|███▌      | 69/196 [01:09<02:57,  1.40s/it]"
     ]
    },
    {
     "name": "stdout",
     "output_type": "stream",
     "text": [
      "0.6925064599483204\n",
      "0.7540983606557377\n"
     ]
    },
    {
     "name": "stderr",
     "output_type": "stream",
     "text": [
      " 36%|███▌      | 71/196 [01:10<02:15,  1.09s/it]"
     ]
    },
    {
     "name": "stdout",
     "output_type": "stream",
     "text": [
      "0.754874651810585\n",
      "0.6666666666666666\n"
     ]
    },
    {
     "name": "stderr",
     "output_type": "stream",
     "text": [
      " 38%|███▊      | 75/196 [01:12<01:18,  1.55it/s]"
     ]
    },
    {
     "name": "stdout",
     "output_type": "stream",
     "text": [
      "0.7033398821218074\n",
      "0.8308823529411765\n",
      "0.6994818652849741\n"
     ]
    },
    {
     "name": "stderr",
     "output_type": "stream",
     "text": [
      " 39%|███▉      | 76/196 [01:13<01:23,  1.44it/s]"
     ]
    },
    {
     "name": "stdout",
     "output_type": "stream",
     "text": [
      "0.8028169014084507\n",
      "0.7816091954022989\n"
     ]
    },
    {
     "name": "stderr",
     "output_type": "stream",
     "text": [
      " 40%|███▉      | 78/196 [01:13<01:00,  1.94it/s]"
     ]
    },
    {
     "name": "stdout",
     "output_type": "stream",
     "text": [
      "0.7933884297520661\n"
     ]
    },
    {
     "name": "stderr",
     "output_type": "stream",
     "text": [
      " 41%|████▏     | 81/196 [01:14<00:38,  2.97it/s]"
     ]
    },
    {
     "name": "stdout",
     "output_type": "stream",
     "text": [
      "0.6842629482071713\n",
      "0.5882352941176471\n",
      "0.8121827411167513\n"
     ]
    },
    {
     "name": "stderr",
     "output_type": "stream",
     "text": [
      " 42%|████▏     | 82/196 [01:19<02:21,  1.24s/it]"
     ]
    },
    {
     "name": "stdout",
     "output_type": "stream",
     "text": [
      "0.7019064124783362\n",
      "0.8495934959349594\n"
     ]
    },
    {
     "name": "stderr",
     "output_type": "stream",
     "text": [
      " 43%|████▎     | 84/196 [01:19<01:34,  1.19it/s]"
     ]
    },
    {
     "name": "stdout",
     "output_type": "stream",
     "text": [
      "0.728735632183908\n"
     ]
    },
    {
     "name": "stderr",
     "output_type": "stream",
     "text": [
      " 43%|████▎     | 85/196 [01:21<01:53,  1.02s/it]"
     ]
    },
    {
     "name": "stdout",
     "output_type": "stream",
     "text": [
      "0.7885057471264367\n"
     ]
    },
    {
     "name": "stderr",
     "output_type": "stream",
     "text": [
      " 44%|████▍     | 87/196 [01:21<01:15,  1.44it/s]"
     ]
    },
    {
     "name": "stdout",
     "output_type": "stream",
     "text": [
      "0.8446215139442231\n",
      "0.6853582554517134\n"
     ]
    },
    {
     "name": "stderr",
     "output_type": "stream",
     "text": [
      " 45%|████▌     | 89/196 [01:21<00:46,  2.31it/s]"
     ]
    },
    {
     "name": "stdout",
     "output_type": "stream",
     "text": [
      "0.7266187050359713\n",
      "0.6368159203980099\n"
     ]
    },
    {
     "name": "stderr",
     "output_type": "stream",
     "text": [
      " 47%|████▋     | 92/196 [01:23<00:43,  2.39it/s]"
     ]
    },
    {
     "name": "stdout",
     "output_type": "stream",
     "text": [
      "0.7598097502972652\n",
      "0.7399103139013453\n",
      "0.7278911564625851\n"
     ]
    },
    {
     "name": "stderr",
     "output_type": "stream",
     "text": [
      " 48%|████▊     | 94/196 [01:23<00:34,  2.93it/s]"
     ]
    },
    {
     "name": "stdout",
     "output_type": "stream",
     "text": [
      "0.7184466019417476\n",
      "0.7701863354037267\n"
     ]
    },
    {
     "name": "stderr",
     "output_type": "stream",
     "text": [
      " 49%|████▉     | 96/196 [01:24<00:26,  3.83it/s]"
     ]
    },
    {
     "name": "stdout",
     "output_type": "stream",
     "text": [
      "0.7578288100208769\n",
      "0.6792452830188679\n"
     ]
    },
    {
     "name": "stderr",
     "output_type": "stream",
     "text": [
      " 49%|████▉     | 97/196 [01:24<00:31,  3.15it/s]"
     ]
    },
    {
     "name": "stdout",
     "output_type": "stream",
     "text": [
      "0.8172323759791122\n"
     ]
    },
    {
     "name": "stderr",
     "output_type": "stream",
     "text": [
      " 50%|█████     | 98/196 [01:24<00:29,  3.38it/s]"
     ]
    },
    {
     "name": "stdout",
     "output_type": "stream",
     "text": [
      "0.75\n",
      "0.8409785932721713\n"
     ]
    },
    {
     "name": "stderr",
     "output_type": "stream",
     "text": [
      " 51%|█████     | 100/196 [01:25<00:20,  4.74it/s]"
     ]
    },
    {
     "name": "stdout",
     "output_type": "stream",
     "text": [
      "0.5061728395061729\n"
     ]
    },
    {
     "name": "stderr",
     "output_type": "stream",
     "text": [
      " 52%|█████▏    | 102/196 [01:26<00:26,  3.61it/s]"
     ]
    },
    {
     "name": "stdout",
     "output_type": "stream",
     "text": [
      "0.6466165413533834\n",
      "0.7916666666666666\n"
     ]
    },
    {
     "name": "stderr",
     "output_type": "stream",
     "text": [
      " 53%|█████▎    | 103/196 [01:26<00:42,  2.17it/s]"
     ]
    },
    {
     "name": "stdout",
     "output_type": "stream",
     "text": [
      "0.6973947895791583\n"
     ]
    },
    {
     "name": "stderr",
     "output_type": "stream",
     "text": [
      " 54%|█████▎    | 105/196 [01:28<00:42,  2.13it/s]"
     ]
    },
    {
     "name": "stdout",
     "output_type": "stream",
     "text": [
      "0.7592814371257485\n",
      "0.8580441640378549\n",
      "0.2875816993464052\n"
     ]
    },
    {
     "name": "stderr",
     "output_type": "stream",
     "text": [
      " 55%|█████▍    | 107/196 [01:32<02:01,  1.36s/it]"
     ]
    },
    {
     "name": "stdout",
     "output_type": "stream",
     "text": [
      "0.7342723004694836\n",
      "0.8489932885906041\n"
     ]
    },
    {
     "name": "stderr",
     "output_type": "stream",
     "text": [
      " 56%|█████▌    | 109/196 [01:33<01:17,  1.12it/s]"
     ]
    },
    {
     "name": "stdout",
     "output_type": "stream",
     "text": [
      "0.7975\n"
     ]
    },
    {
     "name": "stderr",
     "output_type": "stream",
     "text": [
      " 56%|█████▌    | 110/196 [01:33<01:10,  1.22it/s]"
     ]
    },
    {
     "name": "stdout",
     "output_type": "stream",
     "text": [
      "0.6576271186440678\n"
     ]
    },
    {
     "name": "stderr",
     "output_type": "stream",
     "text": [
      " 57%|█████▋    | 111/196 [01:34<01:01,  1.38it/s]"
     ]
    },
    {
     "name": "stdout",
     "output_type": "stream",
     "text": [
      "0.6042553191489362\n"
     ]
    },
    {
     "name": "stderr",
     "output_type": "stream",
     "text": [
      " 57%|█████▋    | 112/196 [01:34<00:50,  1.66it/s]"
     ]
    },
    {
     "name": "stdout",
     "output_type": "stream",
     "text": [
      "0.8752475247524752\n"
     ]
    },
    {
     "name": "stderr",
     "output_type": "stream",
     "text": [
      " 58%|█████▊    | 113/196 [01:34<00:45,  1.84it/s]"
     ]
    },
    {
     "name": "stdout",
     "output_type": "stream",
     "text": [
      "0.7280966767371602\n"
     ]
    },
    {
     "name": "stderr",
     "output_type": "stream",
     "text": [
      " 58%|█████▊    | 114/196 [01:41<02:51,  2.10s/it]"
     ]
    },
    {
     "name": "stdout",
     "output_type": "stream",
     "text": [
      "0.8094262295081968\n"
     ]
    },
    {
     "name": "stderr",
     "output_type": "stream",
     "text": [
      " 59%|█████▉    | 116/196 [01:41<01:39,  1.25s/it]"
     ]
    },
    {
     "name": "stdout",
     "output_type": "stream",
     "text": [
      "0.7183098591549296\n",
      "0.7811320754716982\n"
     ]
    },
    {
     "name": "stderr",
     "output_type": "stream",
     "text": [
      " 60%|█████▉    | 117/196 [01:42<01:15,  1.05it/s]"
     ]
    },
    {
     "name": "stdout",
     "output_type": "stream",
     "text": [
      "0.7138263665594855\n"
     ]
    },
    {
     "name": "stderr",
     "output_type": "stream",
     "text": [
      " 60%|██████    | 118/196 [01:43<01:29,  1.15s/it]"
     ]
    },
    {
     "name": "stdout",
     "output_type": "stream",
     "text": [
      "0.6996466431095406\n"
     ]
    },
    {
     "name": "stderr",
     "output_type": "stream",
     "text": [
      " 61%|██████    | 119/196 [01:44<01:24,  1.10s/it]"
     ]
    },
    {
     "name": "stdout",
     "output_type": "stream",
     "text": [
      "0.6981891348088531\n"
     ]
    },
    {
     "name": "stderr",
     "output_type": "stream",
     "text": [
      " 61%|██████    | 120/196 [01:47<01:51,  1.47s/it]"
     ]
    },
    {
     "name": "stdout",
     "output_type": "stream",
     "text": [
      "0.7236421725239617\n"
     ]
    },
    {
     "name": "stderr",
     "output_type": "stream",
     "text": [
      " 62%|██████▏   | 121/196 [01:48<01:45,  1.41s/it]"
     ]
    },
    {
     "name": "stdout",
     "output_type": "stream",
     "text": [
      "0.6224489795918368\n"
     ]
    },
    {
     "name": "stderr",
     "output_type": "stream",
     "text": [
      " 63%|██████▎   | 123/196 [01:54<02:22,  1.95s/it]"
     ]
    },
    {
     "name": "stdout",
     "output_type": "stream",
     "text": [
      "0.7363966142684402\n",
      "0.29296875\n"
     ]
    },
    {
     "name": "stderr",
     "output_type": "stream",
     "text": [
      " 63%|██████▎   | 124/196 [01:54<01:45,  1.47s/it]"
     ]
    },
    {
     "name": "stdout",
     "output_type": "stream",
     "text": [
      "0.793939393939394\n"
     ]
    },
    {
     "name": "stderr",
     "output_type": "stream",
     "text": [
      " 64%|██████▍   | 125/196 [01:57<02:09,  1.82s/it]"
     ]
    },
    {
     "name": "stdout",
     "output_type": "stream",
     "text": [
      "0.7004405286343612\n"
     ]
    },
    {
     "name": "stderr",
     "output_type": "stream",
     "text": [
      " 65%|██████▍   | 127/196 [02:04<02:43,  2.36s/it]"
     ]
    },
    {
     "name": "stdout",
     "output_type": "stream",
     "text": [
      "0.7968094038623006\n",
      "0.8108108108108109\n",
      "0.882051282051282\n"
     ]
    },
    {
     "name": "stderr",
     "output_type": "stream",
     "text": [
      " 66%|██████▋   | 130/196 [02:09<02:03,  1.87s/it]"
     ]
    },
    {
     "name": "stdout",
     "output_type": "stream",
     "text": [
      "0.7298013245033113\n",
      "0.7050359712230215\n"
     ]
    },
    {
     "name": "stderr",
     "output_type": "stream",
     "text": [
      " 67%|██████▋   | 131/196 [02:09<01:31,  1.41s/it]"
     ]
    },
    {
     "name": "stdout",
     "output_type": "stream",
     "text": [
      "0.86\n",
      "0.8388429752066116\n"
     ]
    },
    {
     "name": "stderr",
     "output_type": "stream",
     "text": [
      " 68%|██████▊   | 134/196 [02:09<00:42,  1.46it/s]"
     ]
    },
    {
     "name": "stdout",
     "output_type": "stream",
     "text": [
      "0.7783641160949868\n",
      "0.6646341463414634\n"
     ]
    },
    {
     "name": "stderr",
     "output_type": "stream",
     "text": [
      " 69%|██████▉   | 135/196 [02:10<00:42,  1.44it/s]"
     ]
    },
    {
     "name": "stdout",
     "output_type": "stream",
     "text": [
      "0.8645320197044335\n"
     ]
    },
    {
     "name": "stderr",
     "output_type": "stream",
     "text": [
      " 69%|██████▉   | 136/196 [02:13<01:13,  1.22s/it]"
     ]
    },
    {
     "name": "stdout",
     "output_type": "stream",
     "text": [
      "0.7361702127659574\n",
      "0.7217391304347827\n"
     ]
    },
    {
     "name": "stderr",
     "output_type": "stream",
     "text": [
      " 70%|███████   | 138/196 [02:18<01:43,  1.79s/it]"
     ]
    },
    {
     "name": "stdout",
     "output_type": "stream",
     "text": [
      "0.7418478260869565\n"
     ]
    },
    {
     "name": "stderr",
     "output_type": "stream",
     "text": [
      " 71%|███████   | 139/196 [02:18<01:24,  1.47s/it]"
     ]
    },
    {
     "name": "stdout",
     "output_type": "stream",
     "text": [
      "0.6179775280898876\n"
     ]
    },
    {
     "name": "stderr",
     "output_type": "stream",
     "text": [
      " 71%|███████▏  | 140/196 [02:19<01:06,  1.19s/it]"
     ]
    },
    {
     "name": "stdout",
     "output_type": "stream",
     "text": [
      "0.8557422969187675\n"
     ]
    },
    {
     "name": "stderr",
     "output_type": "stream",
     "text": [
      " 72%|███████▏  | 141/196 [02:19<00:53,  1.03it/s]"
     ]
    },
    {
     "name": "stdout",
     "output_type": "stream",
     "text": [
      "0.8367346938775511\n"
     ]
    },
    {
     "name": "stderr",
     "output_type": "stream",
     "text": [
      " 72%|███████▏  | 142/196 [02:19<00:44,  1.22it/s]"
     ]
    },
    {
     "name": "stdout",
     "output_type": "stream",
     "text": [
      "0.6996336996336996\n"
     ]
    },
    {
     "name": "stderr",
     "output_type": "stream",
     "text": [
      " 73%|███████▎  | 143/196 [02:24<01:43,  1.96s/it]"
     ]
    },
    {
     "name": "stdout",
     "output_type": "stream",
     "text": [
      "0.7511244377811095\n",
      "0.7547169811320755\n"
     ]
    },
    {
     "name": "stderr",
     "output_type": "stream",
     "text": [
      " 74%|███████▍  | 145/196 [02:25<00:57,  1.13s/it]"
     ]
    },
    {
     "name": "stdout",
     "output_type": "stream",
     "text": [
      "0.7333333333333333\n"
     ]
    },
    {
     "name": "stderr",
     "output_type": "stream",
     "text": [
      " 74%|███████▍  | 146/196 [02:27<01:07,  1.36s/it]"
     ]
    },
    {
     "name": "stdout",
     "output_type": "stream",
     "text": [
      "0.7107011070110701\n"
     ]
    },
    {
     "name": "stderr",
     "output_type": "stream",
     "text": [
      " 75%|███████▌  | 147/196 [02:27<00:59,  1.21s/it]"
     ]
    },
    {
     "name": "stdout",
     "output_type": "stream",
     "text": [
      "0.7215384615384616\n"
     ]
    },
    {
     "name": "stderr",
     "output_type": "stream",
     "text": [
      " 76%|███████▌  | 148/196 [02:28<00:49,  1.03s/it]"
     ]
    },
    {
     "name": "stdout",
     "output_type": "stream",
     "text": [
      "0.7493472584856397\n"
     ]
    },
    {
     "name": "stderr",
     "output_type": "stream",
     "text": [
      " 76%|███████▌  | 149/196 [02:28<00:38,  1.23it/s]"
     ]
    },
    {
     "name": "stdout",
     "output_type": "stream",
     "text": [
      "0.8235294117647058\n"
     ]
    },
    {
     "name": "stderr",
     "output_type": "stream",
     "text": [
      " 77%|███████▋  | 150/196 [02:30<00:49,  1.08s/it]"
     ]
    },
    {
     "name": "stdout",
     "output_type": "stream",
     "text": [
      "0.8724672228843862\n",
      "0.75\n"
     ]
    },
    {
     "name": "stderr",
     "output_type": "stream",
     "text": [
      " 78%|███████▊  | 152/196 [02:31<00:33,  1.32it/s]"
     ]
    },
    {
     "name": "stdout",
     "output_type": "stream",
     "text": [
      "0.7040133779264214\n"
     ]
    },
    {
     "name": "stderr",
     "output_type": "stream",
     "text": [
      " 78%|███████▊  | 153/196 [02:38<01:38,  2.29s/it]"
     ]
    },
    {
     "name": "stdout",
     "output_type": "stream",
     "text": [
      "0.7519230769230769\n"
     ]
    },
    {
     "name": "stderr",
     "output_type": "stream",
     "text": [
      " 79%|███████▊  | 154/196 [02:38<01:18,  1.86s/it]"
     ]
    },
    {
     "name": "stdout",
     "output_type": "stream",
     "text": [
      "0.6518987341772152\n"
     ]
    },
    {
     "name": "stderr",
     "output_type": "stream",
     "text": [
      " 79%|███████▉  | 155/196 [02:42<01:32,  2.27s/it]"
     ]
    },
    {
     "name": "stdout",
     "output_type": "stream",
     "text": [
      "0.7183098591549296\n"
     ]
    },
    {
     "name": "stderr",
     "output_type": "stream",
     "text": [
      " 80%|████████  | 157/196 [02:42<00:49,  1.27s/it]"
     ]
    },
    {
     "name": "stdout",
     "output_type": "stream",
     "text": [
      "0.4676258992805755\n",
      "0.45531197301854975\n"
     ]
    },
    {
     "name": "stderr",
     "output_type": "stream",
     "text": [
      " 81%|████████  | 158/196 [02:42<00:35,  1.06it/s]"
     ]
    },
    {
     "name": "stdout",
     "output_type": "stream",
     "text": [
      "0.8545454545454545\n"
     ]
    },
    {
     "name": "stderr",
     "output_type": "stream",
     "text": [
      " 81%|████████  | 159/196 [02:43<00:28,  1.28it/s]"
     ]
    },
    {
     "name": "stdout",
     "output_type": "stream",
     "text": [
      "0.8789346246973365\n",
      "0.7903225806451613\n"
     ]
    },
    {
     "name": "stderr",
     "output_type": "stream",
     "text": [
      " 82%|████████▏ | 161/196 [02:43<00:17,  1.98it/s]"
     ]
    },
    {
     "name": "stdout",
     "output_type": "stream",
     "text": [
      "0.6476190476190476\n"
     ]
    },
    {
     "name": "stderr",
     "output_type": "stream",
     "text": [
      " 83%|████████▎ | 162/196 [02:43<00:15,  2.16it/s]"
     ]
    },
    {
     "name": "stdout",
     "output_type": "stream",
     "text": [
      "0.677570093457944\n"
     ]
    },
    {
     "name": "stderr",
     "output_type": "stream",
     "text": [
      " 83%|████████▎ | 163/196 [02:44<00:13,  2.38it/s]"
     ]
    },
    {
     "name": "stdout",
     "output_type": "stream",
     "text": [
      "0.7214765100671141\n"
     ]
    },
    {
     "name": "stderr",
     "output_type": "stream",
     "text": [
      " 84%|████████▎ | 164/196 [02:44<00:12,  2.66it/s]"
     ]
    },
    {
     "name": "stdout",
     "output_type": "stream",
     "text": [
      "0.7287234042553191\n"
     ]
    },
    {
     "name": "stderr",
     "output_type": "stream",
     "text": [
      " 84%|████████▍ | 165/196 [02:45<00:16,  1.91it/s]"
     ]
    },
    {
     "name": "stdout",
     "output_type": "stream",
     "text": [
      "0.7411616161616161\n"
     ]
    },
    {
     "name": "stderr",
     "output_type": "stream",
     "text": [
      " 85%|████████▍ | 166/196 [02:48<00:41,  1.37s/it]"
     ]
    },
    {
     "name": "stdout",
     "output_type": "stream",
     "text": [
      "0.8496291301416049\n"
     ]
    },
    {
     "name": "stderr",
     "output_type": "stream",
     "text": [
      " 86%|████████▌ | 168/196 [02:49<00:22,  1.22it/s]"
     ]
    },
    {
     "name": "stdout",
     "output_type": "stream",
     "text": [
      "0.8108747044917257\n",
      "0.8283828382838284\n"
     ]
    },
    {
     "name": "stderr",
     "output_type": "stream",
     "text": [
      " 87%|████████▋ | 170/196 [02:49<00:13,  1.97it/s]"
     ]
    },
    {
     "name": "stdout",
     "output_type": "stream",
     "text": [
      "0.8032407407407407\n",
      "0.44063324538258575\n"
     ]
    },
    {
     "name": "stderr",
     "output_type": "stream",
     "text": [
      " 87%|████████▋ | 171/196 [02:53<00:38,  1.53s/it]"
     ]
    },
    {
     "name": "stdout",
     "output_type": "stream",
     "text": [
      "0.7404255319148936\n"
     ]
    },
    {
     "name": "stderr",
     "output_type": "stream",
     "text": [
      " 88%|████████▊ | 173/196 [02:54<00:19,  1.17it/s]"
     ]
    },
    {
     "name": "stdout",
     "output_type": "stream",
     "text": [
      "0.6904761904761905\n",
      "0.5933734939759037\n"
     ]
    },
    {
     "name": "stderr",
     "output_type": "stream",
     "text": [
      " 89%|████████▉ | 174/196 [02:54<00:14,  1.51it/s]"
     ]
    },
    {
     "name": "stdout",
     "output_type": "stream",
     "text": [
      "0.8167539267015707\n"
     ]
    },
    {
     "name": "stderr",
     "output_type": "stream",
     "text": [
      " 90%|████████▉ | 176/196 [02:55<00:11,  1.70it/s]"
     ]
    },
    {
     "name": "stdout",
     "output_type": "stream",
     "text": [
      "0.640661938534279\n",
      "0.6996805111821086\n"
     ]
    },
    {
     "name": "stderr",
     "output_type": "stream",
     "text": [
      " 90%|█████████ | 177/196 [02:56<00:11,  1.63it/s]"
     ]
    },
    {
     "name": "stdout",
     "output_type": "stream",
     "text": [
      "0.872093023255814\n",
      "0.6610169491525424\n",
      "0.8402777777777778\n"
     ]
    },
    {
     "name": "stderr",
     "output_type": "stream",
     "text": [
      " 92%|█████████▏| 180/196 [02:56<00:05,  3.00it/s]"
     ]
    },
    {
     "name": "stdout",
     "output_type": "stream",
     "text": [
      "0.8447058823529412\n"
     ]
    },
    {
     "name": "stderr",
     "output_type": "stream",
     "text": [
      " 92%|█████████▏| 181/196 [02:56<00:05,  2.88it/s]"
     ]
    },
    {
     "name": "stdout",
     "output_type": "stream",
     "text": [
      "0.818815331010453\n"
     ]
    },
    {
     "name": "stderr",
     "output_type": "stream",
     "text": [
      " 93%|█████████▎| 182/196 [02:57<00:04,  2.92it/s]"
     ]
    },
    {
     "name": "stdout",
     "output_type": "stream",
     "text": [
      "0.8108651911468813\n"
     ]
    },
    {
     "name": "stderr",
     "output_type": "stream",
     "text": [
      " 93%|█████████▎| 183/196 [02:58<00:05,  2.33it/s]"
     ]
    },
    {
     "name": "stdout",
     "output_type": "stream",
     "text": [
      "0.665625\n"
     ]
    },
    {
     "name": "stderr",
     "output_type": "stream",
     "text": [
      " 94%|█████████▍| 184/196 [02:59<00:07,  1.63it/s]"
     ]
    },
    {
     "name": "stdout",
     "output_type": "stream",
     "text": [
      "0.7396616541353384\n"
     ]
    },
    {
     "name": "stderr",
     "output_type": "stream",
     "text": [
      " 94%|█████████▍| 185/196 [03:02<00:14,  1.28s/it]"
     ]
    },
    {
     "name": "stdout",
     "output_type": "stream",
     "text": [
      "0.6895074946466809\n"
     ]
    },
    {
     "name": "stderr",
     "output_type": "stream",
     "text": [
      " 95%|█████████▍| 186/196 [03:02<00:10,  1.08s/it]"
     ]
    },
    {
     "name": "stdout",
     "output_type": "stream",
     "text": [
      "0.7597042513863216\n"
     ]
    },
    {
     "name": "stderr",
     "output_type": "stream",
     "text": [
      " 96%|█████████▌| 188/196 [03:03<00:05,  1.55it/s]"
     ]
    },
    {
     "name": "stdout",
     "output_type": "stream",
     "text": [
      "0.6978851963746223\n",
      "0.8072916666666666\n"
     ]
    },
    {
     "name": "stderr",
     "output_type": "stream",
     "text": [
      " 97%|█████████▋| 190/196 [03:11<00:12,  2.07s/it]"
     ]
    },
    {
     "name": "stdout",
     "output_type": "stream",
     "text": [
      "0.7408726625111309\n",
      "0.3526315789473684\n"
     ]
    },
    {
     "name": "stderr",
     "output_type": "stream",
     "text": [
      " 97%|█████████▋| 191/196 [03:11<00:07,  1.53s/it]"
     ]
    },
    {
     "name": "stdout",
     "output_type": "stream",
     "text": [
      "0.7721518987341772\n",
      "0.7380952380952381\n"
     ]
    },
    {
     "name": "stderr",
     "output_type": "stream",
     "text": [
      " 98%|█████████▊| 193/196 [03:12<00:02,  1.07it/s]"
     ]
    },
    {
     "name": "stdout",
     "output_type": "stream",
     "text": [
      "0.835820895522388\n"
     ]
    },
    {
     "name": "stderr",
     "output_type": "stream",
     "text": [
      " 99%|█████████▉| 194/196 [03:14<00:02,  1.29s/it]"
     ]
    },
    {
     "name": "stdout",
     "output_type": "stream",
     "text": [
      "0.8042226487523992\n"
     ]
    },
    {
     "name": "stderr",
     "output_type": "stream",
     "text": [
      "100%|██████████| 196/196 [03:15<00:00,  1.00it/s]"
     ]
    },
    {
     "name": "stdout",
     "output_type": "stream",
     "text": [
      "0.7694610778443114\n",
      "0.8021978021978022\n"
     ]
    },
    {
     "name": "stderr",
     "output_type": "stream",
     "text": [
      "\n"
     ]
    }
   ],
   "source": [
    "for ib, db in tqdm(building.items()):\n",
    "    new_ids = set()\n",
    "    for ifloor, dfloor in db['floor_dirs'].items():\n",
    "        new_ids |= get_wifi_ids(dfloor)\n",
    "    print(len(new_ids - REPEAT_SSIDS)/len(new_ids))"
   ]
  },
  {
   "cell_type": "code",
   "execution_count": null,
   "id": "c14dae73-2a25-409d-90be-aa81460f4499",
   "metadata": {},
   "outputs": [],
   "source": []
  }
 ],
 "metadata": {
  "kernelspec": {
   "display_name": "Python 3",
   "language": "python",
   "name": "python3"
  },
  "language_info": {
   "codemirror_mode": {
    "name": "ipython",
    "version": 3
   },
   "file_extension": ".py",
   "mimetype": "text/x-python",
   "name": "python",
   "nbconvert_exporter": "python",
   "pygments_lexer": "ipython3",
   "version": "3.9.4"
  }
 },
 "nbformat": 4,
 "nbformat_minor": 5
}
